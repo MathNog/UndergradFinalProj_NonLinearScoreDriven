{
 "cells": [
  {
   "cell_type": "code",
   "execution_count": 1,
   "metadata": {},
   "outputs": [],
   "source": [
    "import pandas as pd\n",
    "import matplotlib.pyplot as plt"
   ]
  },
  {
   "cell_type": "code",
   "execution_count": 2,
   "metadata": {},
   "outputs": [],
   "source": [
    "DICT_MESES = {\n",
    "    \"January\": 1,\n",
    "    \"February\": 2,\n",
    "    \"March\": 3,\n",
    "    \"April\": 4,\n",
    "    \"May\": 5,\n",
    "    \"June\": 6,\n",
    "    \"July\": 7,\n",
    "    \"August\": 8,\n",
    "    \"September\": 9,\n",
    "    \"October\": 10,\n",
    "    \"November\": 11,\n",
    "    \"December\": 12\n",
    "}\n"
   ]
  },
  {
   "cell_type": "code",
   "execution_count": 3,
   "metadata": {},
   "outputs": [],
   "source": [
    "path_limpos = \"Tratados\"\n",
    "path_brutos = \"Brutos\""
   ]
  },
  {
   "cell_type": "code",
   "execution_count": 38,
   "metadata": {},
   "outputs": [],
   "source": [
    "path_ena_bruto = path_brutos+\"\\\\Simples_Energia_Natural_Afluente_Subsistema_Barra__data.csv\"\n",
    "path_carga_bruto = path_brutos+\"\\\\Simples_Carga_de_Energia_Barra_Mês_data.csv\"\n",
    "path_vazao_bruto = path_brutos+\"\\\\vazao_mensal_juazeiro_sf.csv\""
   ]
  },
  {
   "cell_type": "code",
   "execution_count": 65,
   "metadata": {},
   "outputs": [],
   "source": [
    "ena_bruto = pd.read_csv(path_ena_bruto)\n",
    "carga_bruto = pd.read_csv(path_carga_bruto)\n",
    "vazao_bruto = pd.read_csv(path_vazao_bruto,on_bad_lines='skip',sep=\";\")"
   ]
  },
  {
   "cell_type": "code",
   "execution_count": 6,
   "metadata": {},
   "outputs": [],
   "source": [
    "datas_brutas_ena = ena_bruto.iloc[:,0]\n",
    "datas_brutas_carga= carga_bruto.iloc[:,0]"
   ]
  },
  {
   "cell_type": "code",
   "execution_count": 7,
   "metadata": {},
   "outputs": [],
   "source": [
    "def limpa_datas_ena_carga(datas_brutas, DICT_MESES):\n",
    "\n",
    "    df_limpo = pd.DataFrame()\n",
    "    meses_brutos = datas_brutas.apply(lambda x: x.split(\" \")[0])\n",
    "    anos_brutos = datas_brutas.apply(lambda x: x.split(\" \")[1])\n",
    "\n",
    "    df_limpo[\"Month\"] = meses_brutos.apply(lambda x: DICT_MESES[x])\n",
    "    df_limpo[\"Year\"] = anos_brutos\n",
    "\n",
    "    df_limpo[\"Data\"] = pd.to_datetime(df_limpo[[\"Month\", \"Year\"]].assign(day=1))\n",
    "    df_limpo.drop([\"Month\",\"Year\"],axis=1,inplace=True)\n",
    "\n",
    "    return df_limpo"
   ]
  },
  {
   "cell_type": "code",
   "execution_count": 8,
   "metadata": {},
   "outputs": [],
   "source": [
    "df_ena_limpo = limpa_datas_ena_carga(datas_brutas_ena, DICT_MESES)\n",
    "df_carga_limpo = limpa_datas_ena_carga(datas_brutas_carga, DICT_MESES)"
   ]
  },
  {
   "cell_type": "code",
   "execution_count": 9,
   "metadata": {},
   "outputs": [],
   "source": [
    "df_ena_limpo[\"ENA\"] = ena_bruto.iloc[:,-1]\n",
    "df_carga_limpo[\"Carga\"] = carga_bruto.iloc[:,-1]\n"
   ]
  },
  {
   "cell_type": "code",
   "execution_count": 10,
   "metadata": {},
   "outputs": [
    {
     "data": {
      "text/html": [
       "<div>\n",
       "<style scoped>\n",
       "    .dataframe tbody tr th:only-of-type {\n",
       "        vertical-align: middle;\n",
       "    }\n",
       "\n",
       "    .dataframe tbody tr th {\n",
       "        vertical-align: top;\n",
       "    }\n",
       "\n",
       "    .dataframe thead th {\n",
       "        text-align: right;\n",
       "    }\n",
       "</style>\n",
       "<table border=\"1\" class=\"dataframe\">\n",
       "  <thead>\n",
       "    <tr style=\"text-align: right;\">\n",
       "      <th></th>\n",
       "      <th>Data</th>\n",
       "      <th>Carga</th>\n",
       "    </tr>\n",
       "  </thead>\n",
       "  <tbody>\n",
       "    <tr>\n",
       "      <th>0</th>\n",
       "      <td>2023-06-01</td>\n",
       "      <td>39917.917295</td>\n",
       "    </tr>\n",
       "    <tr>\n",
       "      <th>1</th>\n",
       "      <td>2023-05-01</td>\n",
       "      <td>41246.681730</td>\n",
       "    </tr>\n",
       "    <tr>\n",
       "      <th>2</th>\n",
       "      <td>2023-04-01</td>\n",
       "      <td>40279.185284</td>\n",
       "    </tr>\n",
       "    <tr>\n",
       "      <th>3</th>\n",
       "      <td>2023-03-01</td>\n",
       "      <td>43688.792105</td>\n",
       "    </tr>\n",
       "    <tr>\n",
       "      <th>4</th>\n",
       "      <td>2023-02-01</td>\n",
       "      <td>43029.632306</td>\n",
       "    </tr>\n",
       "    <tr>\n",
       "      <th>...</th>\n",
       "      <td>...</td>\n",
       "      <td>...</td>\n",
       "    </tr>\n",
       "    <tr>\n",
       "      <th>253</th>\n",
       "      <td>2002-05-01</td>\n",
       "      <td>24774.471236</td>\n",
       "    </tr>\n",
       "    <tr>\n",
       "      <th>254</th>\n",
       "      <td>2002-04-01</td>\n",
       "      <td>25772.850000</td>\n",
       "    </tr>\n",
       "    <tr>\n",
       "      <th>255</th>\n",
       "      <td>2002-03-01</td>\n",
       "      <td>25133.201223</td>\n",
       "    </tr>\n",
       "    <tr>\n",
       "      <th>256</th>\n",
       "      <td>2002-02-01</td>\n",
       "      <td>23452.702202</td>\n",
       "    </tr>\n",
       "    <tr>\n",
       "      <th>257</th>\n",
       "      <td>2002-01-01</td>\n",
       "      <td>22719.879019</td>\n",
       "    </tr>\n",
       "  </tbody>\n",
       "</table>\n",
       "<p>258 rows × 2 columns</p>\n",
       "</div>"
      ],
      "text/plain": [
       "          Data         Carga\n",
       "0   2023-06-01  39917.917295\n",
       "1   2023-05-01  41246.681730\n",
       "2   2023-04-01  40279.185284\n",
       "3   2023-03-01  43688.792105\n",
       "4   2023-02-01  43029.632306\n",
       "..         ...           ...\n",
       "253 2002-05-01  24774.471236\n",
       "254 2002-04-01  25772.850000\n",
       "255 2002-03-01  25133.201223\n",
       "256 2002-02-01  23452.702202\n",
       "257 2002-01-01  22719.879019\n",
       "\n",
       "[258 rows x 2 columns]"
      ]
     },
     "execution_count": 10,
     "metadata": {},
     "output_type": "execute_result"
    }
   ],
   "source": [
    "df_carga_limpo = df_carga_limpo[df_carga_limpo.Data.dt.year >= 2002]\n",
    "df_carga_limpo"
   ]
  },
  {
   "cell_type": "code",
   "execution_count": 11,
   "metadata": {},
   "outputs": [],
   "source": [
    "df_ena_limpo.sort_values(by=\"Data\",inplace=True)\n",
    "df_carga_limpo.sort_values(by=\"Data\",inplace=True)"
   ]
  },
  {
   "cell_type": "code",
   "execution_count": 12,
   "metadata": {},
   "outputs": [],
   "source": [
    "df_ena_limpo.to_csv(path_limpos+\"\\\\ena_limpo.csv\",index=False)\n",
    "df_carga_limpo.to_csv(path_limpos+\"\\\\carga_limpo.csv\",index=False)"
   ]
  },
  {
   "cell_type": "code",
   "execution_count": 74,
   "metadata": {},
   "outputs": [
    {
     "data": {
      "text/html": [
       "<div>\n",
       "<style scoped>\n",
       "    .dataframe tbody tr th:only-of-type {\n",
       "        vertical-align: middle;\n",
       "    }\n",
       "\n",
       "    .dataframe tbody tr th {\n",
       "        vertical-align: top;\n",
       "    }\n",
       "\n",
       "    .dataframe thead th {\n",
       "        text-align: right;\n",
       "    }\n",
       "</style>\n",
       "<table border=\"1\" class=\"dataframe\">\n",
       "  <thead>\n",
       "    <tr style=\"text-align: right;\">\n",
       "      <th></th>\n",
       "      <th>Data</th>\n",
       "      <th>Vazao</th>\n",
       "    </tr>\n",
       "  </thead>\n",
       "  <tbody>\n",
       "    <tr>\n",
       "      <th>0</th>\n",
       "      <td>2000-01-01</td>\n",
       "      <td>2156.77</td>\n",
       "    </tr>\n",
       "    <tr>\n",
       "      <th>1</th>\n",
       "      <td>2000-02-01</td>\n",
       "      <td>1897.96</td>\n",
       "    </tr>\n",
       "    <tr>\n",
       "      <th>2</th>\n",
       "      <td>2000-03-01</td>\n",
       "      <td>1879.81</td>\n",
       "    </tr>\n",
       "    <tr>\n",
       "      <th>3</th>\n",
       "      <td>2000-04-01</td>\n",
       "      <td>2303.92</td>\n",
       "    </tr>\n",
       "    <tr>\n",
       "      <th>4</th>\n",
       "      <td>2000-05-01</td>\n",
       "      <td>2068.45</td>\n",
       "    </tr>\n",
       "    <tr>\n",
       "      <th>...</th>\n",
       "      <td>...</td>\n",
       "      <td>...</td>\n",
       "    </tr>\n",
       "    <tr>\n",
       "      <th>267</th>\n",
       "      <td>2022-06-01</td>\n",
       "      <td>952.94</td>\n",
       "    </tr>\n",
       "    <tr>\n",
       "      <th>268</th>\n",
       "      <td>2022-07-01</td>\n",
       "      <td>1626.89</td>\n",
       "    </tr>\n",
       "    <tr>\n",
       "      <th>269</th>\n",
       "      <td>2022-08-01</td>\n",
       "      <td>1786.46</td>\n",
       "    </tr>\n",
       "    <tr>\n",
       "      <th>270</th>\n",
       "      <td>2022-09-01</td>\n",
       "      <td>1306.63</td>\n",
       "    </tr>\n",
       "    <tr>\n",
       "      <th>271</th>\n",
       "      <td>2022-10-01</td>\n",
       "      <td>1163.12</td>\n",
       "    </tr>\n",
       "  </tbody>\n",
       "</table>\n",
       "<p>272 rows × 2 columns</p>\n",
       "</div>"
      ],
      "text/plain": [
       "          Data    Vazao\n",
       "0   2000-01-01  2156.77\n",
       "1   2000-02-01  1897.96\n",
       "2   2000-03-01  1879.81\n",
       "3   2000-04-01  2303.92\n",
       "4   2000-05-01  2068.45\n",
       "..         ...      ...\n",
       "267 2022-06-01   952.94\n",
       "268 2022-07-01  1626.89\n",
       "269 2022-08-01  1786.46\n",
       "270 2022-09-01  1306.63\n",
       "271 2022-10-01  1163.12\n",
       "\n",
       "[272 rows x 2 columns]"
      ]
     },
     "execution_count": 74,
     "metadata": {},
     "output_type": "execute_result"
    }
   ],
   "source": [
    "vazao_limpo = vazao_bruto[[\"Data\",\"Media\"]]\n",
    "vazao_limpo.loc[:,\"Data\"] = pd.to_datetime(vazao_limpo.loc[:,\"Data\"],dayfirst=True)\n",
    "vazao_limpo.sort_values(by=\"Data\",ascending=True,inplace=True)\n",
    "mask_datas = vazao_limpo[\"Data\"]>=pd.to_datetime(\"01/01/2000\")\n",
    "vazao_limpo = vazao_limpo[mask_datas]\n",
    "vazao_limpo.columns=[\"Data\",\"Vazao\"]\n",
    "vazao_limpo.reset_index(inplace=True,drop=True)\n",
    "\n",
    "vazao_limpo.Vazao = pd.to_numeric(vazao_limpo.Vazao.str.replace(\",\",\".\"))\n",
    "vazao_limpo"
   ]
  },
  {
   "cell_type": "code",
   "execution_count": 77,
   "metadata": {},
   "outputs": [],
   "source": [
    "vazao_limpo.sort_values(by=\"Data\",inplace=True)\n",
    "vazao_limpo.to_csv(path_limpos+\"\\\\vazao_limpo.csv\",index=False)"
   ]
  }
 ],
 "metadata": {
  "kernelspec": {
   "display_name": "st",
   "language": "python",
   "name": "python3"
  },
  "language_info": {
   "codemirror_mode": {
    "name": "ipython",
    "version": 3
   },
   "file_extension": ".py",
   "mimetype": "text/x-python",
   "name": "python",
   "nbconvert_exporter": "python",
   "pygments_lexer": "ipython3",
   "version": "3.8.13"
  },
  "orig_nbformat": 4
 },
 "nbformat": 4,
 "nbformat_minor": 2
}
